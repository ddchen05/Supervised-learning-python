{
  "nbformat": 4,
  "nbformat_minor": 0,
  "metadata": {
    "colab": {
      "name": "Untitled3.ipynb",
      "provenance": []
    },
    "kernelspec": {
      "name": "python3",
      "display_name": "Python 3"
    },
    "language_info": {
      "name": "python"
    }
  },
  "cells": [
    {
      "cell_type": "markdown",
      "source": [
        "### import important libraries"
      ],
      "metadata": {
        "id": "671q9zHn3dq0"
      }
    },
    {
      "cell_type": "code",
      "execution_count": 51,
      "metadata": {
        "id": "hnMqE5xf2paA"
      },
      "outputs": [],
      "source": [
        "import matplotlib.pyplot as plt\n",
        "import numpy as np\n",
        "import pandas as pd\n",
        "import time\n",
        "from sklearn import preprocessing\n",
        "from sklearn.model_selection import train_test_split\n",
        "from sklearn.metrics import accuracy_score\n",
        "from sklearn.metrics import classification_report\n",
        "from sklearn.neural_network import MLPClassifier\n",
        "from sklearn.ensemble import AdaBoostClassifier\n",
        "from sklearn import svm\n",
        "from sklearn.neighbors import KNeighborsClassifier\n",
        "from sklearn.model_selection import GridSearchCV\n",
        "from sklearn.tree import DecisionTreeClassifier"
      ]
    },
    {
      "cell_type": "markdown",
      "source": [
        "### Data overview"
      ],
      "metadata": {
        "id": "KM5Bk88u3oCT"
      }
    },
    {
      "cell_type": "code",
      "source": [
        "# load data and check data shape\n",
        "data = pd.read_csv(\"wine.csv\")\n",
        "print('Total samples of wine dataset: %d' % data.shape[0])\n",
        "print('Total variables of wine dataset: %d' % data.shape[1])\n"
      ],
      "metadata": {
        "colab": {
          "base_uri": "https://localhost:8080/"
        },
        "id": "9yogeR163wxJ",
        "outputId": "7442e245-16ef-496b-fce7-06d9d1936f89"
      },
      "execution_count": 52,
      "outputs": [
        {
          "output_type": "stream",
          "name": "stdout",
          "text": [
            "Total samples of wine dataset: 2200\n",
            "Total variables of wine dataset: 14\n"
          ]
        }
      ]
    },
    {
      "cell_type": "code",
      "source": [
        "# checking the column names and datatypes\n",
        "df=data.copy()\n",
        "df.info()"
      ],
      "metadata": {
        "colab": {
          "base_uri": "https://localhost:8080/"
        },
        "id": "zB48LsT159dU",
        "outputId": "af76b5a0-28f7-4eee-a8b9-3e4ad22d1cf6"
      },
      "execution_count": 53,
      "outputs": [
        {
          "output_type": "stream",
          "name": "stdout",
          "text": [
            "<class 'pandas.core.frame.DataFrame'>\n",
            "RangeIndex: 2200 entries, 0 to 2199\n",
            "Data columns (total 14 columns):\n",
            " #   Column                          Non-Null Count  Dtype  \n",
            "---  ------                          --------------  -----  \n",
            " 0   class                           2200 non-null   int64  \n",
            " 1   Alcohol                         2200 non-null   float64\n",
            " 2   Malic_acid                      2200 non-null   float64\n",
            " 3   Ash                             2200 non-null   float64\n",
            " 4   Alcalinity_of_ash               2200 non-null   float64\n",
            " 5   Magnesium                       2200 non-null   float64\n",
            " 6   Total_phenols                   2200 non-null   float64\n",
            " 7   Flavanoids                      2200 non-null   float64\n",
            " 8   Nonflavanoid_phenols            2200 non-null   float64\n",
            " 9   Proanthocyanins                 2200 non-null   float64\n",
            " 10  Color_intensity                 2200 non-null   float64\n",
            " 11  Hue                             2200 non-null   float64\n",
            " 12  OD280%2FOD315_of_diluted_wines  2200 non-null   float64\n",
            " 13  Proline                         2200 non-null   float64\n",
            "dtypes: float64(13), int64(1)\n",
            "memory usage: 240.8 KB\n"
          ]
        }
      ]
    },
    {
      "cell_type": "code",
      "source": [
        "# view a sample of the data\n",
        "data.sample(n=10, random_state=1)"
      ],
      "metadata": {
        "colab": {
          "base_uri": "https://localhost:8080/",
          "height": 427
        },
        "id": "68LgfITp48oj",
        "outputId": "b89b3ef2-9341-40cf-cf0b-f1c950ba3624"
      },
      "execution_count": 54,
      "outputs": [
        {
          "output_type": "execute_result",
          "data": {
            "text/plain": [
              "      class    Alcohol  Malic_acid       Ash  Alcalinity_of_ash   Magnesium  \\\n",
              "1276      1  12.102024    1.978243  2.206944          16.830709   90.918180   \n",
              "1446      3  13.572330    2.542908  2.696846          23.484424   99.259132   \n",
              "335       1  14.340415    1.924594  2.524905          14.913310  120.345980   \n",
              "1458      3  13.157149    1.595260  1.956307          20.726283   90.662670   \n",
              "2038      1  13.014567    1.771221  1.877660          14.545069   93.272380   \n",
              "1314      3  12.331843    3.215488  2.721250          24.354064  108.370083   \n",
              "389       1  14.142197    2.039219  2.236748          17.509961  103.760235   \n",
              "1639      3  12.425975    2.294901  2.924798          20.858693  100.677210   \n",
              "2004      3  12.745620    4.072534  2.415821          21.417589  100.328676   \n",
              "403       3  14.120930    2.972000  1.974538          22.460124   99.297830   \n",
              "\n",
              "      Total_phenols  Flavanoids  Nonflavanoid_phenols  Proanthocyanins  \\\n",
              "1276       3.175905    3.286019              0.313303         1.742839   \n",
              "1446       1.674558    2.595252              0.421765         1.129740   \n",
              "335        3.247975    2.851522              0.265849         1.259319   \n",
              "1458       2.675248    1.513338              0.598651         3.084097   \n",
              "2038       2.288577    0.558747              0.350538         1.958462   \n",
              "1314       2.960632    0.571487              0.565000         1.593680   \n",
              "389        2.825525    3.912876              0.298394         1.832097   \n",
              "1639       1.814990    2.762398              0.306179         1.143092   \n",
              "2004       1.861831    4.243816              0.317223         2.608496   \n",
              "403        1.482434    0.499428              0.619503         1.283445   \n",
              "\n",
              "      Color_intensity       Hue  OD280%2FOD315_of_diluted_wines      Proline  \n",
              "1276         8.531437  1.053424                        2.776765  1195.569148  \n",
              "1446         8.589199  0.887106                        2.344734   549.436133  \n",
              "335         10.056588  0.893063                        2.101830  1207.292428  \n",
              "1458         4.978823  0.982451                        1.355483   625.185784  \n",
              "2038         4.528011  1.019395                        3.077627  1208.631770  \n",
              "1314        10.216497  0.623675                        2.429772   881.619930  \n",
              "389          5.950905  1.047704                        2.097227  1079.104998  \n",
              "1639         9.920537  0.597982                        2.141342   838.086048  \n",
              "2004         8.036917  0.614371                        1.561459   563.890107  \n",
              "403          9.515219  0.629635                        1.438051   509.489705  "
            ],
            "text/html": [
              "\n",
              "  <div id=\"df-812a4b41-8e8a-4621-a7f3-e6c41f187ed0\">\n",
              "    <div class=\"colab-df-container\">\n",
              "      <div>\n",
              "<style scoped>\n",
              "    .dataframe tbody tr th:only-of-type {\n",
              "        vertical-align: middle;\n",
              "    }\n",
              "\n",
              "    .dataframe tbody tr th {\n",
              "        vertical-align: top;\n",
              "    }\n",
              "\n",
              "    .dataframe thead th {\n",
              "        text-align: right;\n",
              "    }\n",
              "</style>\n",
              "<table border=\"1\" class=\"dataframe\">\n",
              "  <thead>\n",
              "    <tr style=\"text-align: right;\">\n",
              "      <th></th>\n",
              "      <th>class</th>\n",
              "      <th>Alcohol</th>\n",
              "      <th>Malic_acid</th>\n",
              "      <th>Ash</th>\n",
              "      <th>Alcalinity_of_ash</th>\n",
              "      <th>Magnesium</th>\n",
              "      <th>Total_phenols</th>\n",
              "      <th>Flavanoids</th>\n",
              "      <th>Nonflavanoid_phenols</th>\n",
              "      <th>Proanthocyanins</th>\n",
              "      <th>Color_intensity</th>\n",
              "      <th>Hue</th>\n",
              "      <th>OD280%2FOD315_of_diluted_wines</th>\n",
              "      <th>Proline</th>\n",
              "    </tr>\n",
              "  </thead>\n",
              "  <tbody>\n",
              "    <tr>\n",
              "      <th>1276</th>\n",
              "      <td>1</td>\n",
              "      <td>12.102024</td>\n",
              "      <td>1.978243</td>\n",
              "      <td>2.206944</td>\n",
              "      <td>16.830709</td>\n",
              "      <td>90.918180</td>\n",
              "      <td>3.175905</td>\n",
              "      <td>3.286019</td>\n",
              "      <td>0.313303</td>\n",
              "      <td>1.742839</td>\n",
              "      <td>8.531437</td>\n",
              "      <td>1.053424</td>\n",
              "      <td>2.776765</td>\n",
              "      <td>1195.569148</td>\n",
              "    </tr>\n",
              "    <tr>\n",
              "      <th>1446</th>\n",
              "      <td>3</td>\n",
              "      <td>13.572330</td>\n",
              "      <td>2.542908</td>\n",
              "      <td>2.696846</td>\n",
              "      <td>23.484424</td>\n",
              "      <td>99.259132</td>\n",
              "      <td>1.674558</td>\n",
              "      <td>2.595252</td>\n",
              "      <td>0.421765</td>\n",
              "      <td>1.129740</td>\n",
              "      <td>8.589199</td>\n",
              "      <td>0.887106</td>\n",
              "      <td>2.344734</td>\n",
              "      <td>549.436133</td>\n",
              "    </tr>\n",
              "    <tr>\n",
              "      <th>335</th>\n",
              "      <td>1</td>\n",
              "      <td>14.340415</td>\n",
              "      <td>1.924594</td>\n",
              "      <td>2.524905</td>\n",
              "      <td>14.913310</td>\n",
              "      <td>120.345980</td>\n",
              "      <td>3.247975</td>\n",
              "      <td>2.851522</td>\n",
              "      <td>0.265849</td>\n",
              "      <td>1.259319</td>\n",
              "      <td>10.056588</td>\n",
              "      <td>0.893063</td>\n",
              "      <td>2.101830</td>\n",
              "      <td>1207.292428</td>\n",
              "    </tr>\n",
              "    <tr>\n",
              "      <th>1458</th>\n",
              "      <td>3</td>\n",
              "      <td>13.157149</td>\n",
              "      <td>1.595260</td>\n",
              "      <td>1.956307</td>\n",
              "      <td>20.726283</td>\n",
              "      <td>90.662670</td>\n",
              "      <td>2.675248</td>\n",
              "      <td>1.513338</td>\n",
              "      <td>0.598651</td>\n",
              "      <td>3.084097</td>\n",
              "      <td>4.978823</td>\n",
              "      <td>0.982451</td>\n",
              "      <td>1.355483</td>\n",
              "      <td>625.185784</td>\n",
              "    </tr>\n",
              "    <tr>\n",
              "      <th>2038</th>\n",
              "      <td>1</td>\n",
              "      <td>13.014567</td>\n",
              "      <td>1.771221</td>\n",
              "      <td>1.877660</td>\n",
              "      <td>14.545069</td>\n",
              "      <td>93.272380</td>\n",
              "      <td>2.288577</td>\n",
              "      <td>0.558747</td>\n",
              "      <td>0.350538</td>\n",
              "      <td>1.958462</td>\n",
              "      <td>4.528011</td>\n",
              "      <td>1.019395</td>\n",
              "      <td>3.077627</td>\n",
              "      <td>1208.631770</td>\n",
              "    </tr>\n",
              "    <tr>\n",
              "      <th>1314</th>\n",
              "      <td>3</td>\n",
              "      <td>12.331843</td>\n",
              "      <td>3.215488</td>\n",
              "      <td>2.721250</td>\n",
              "      <td>24.354064</td>\n",
              "      <td>108.370083</td>\n",
              "      <td>2.960632</td>\n",
              "      <td>0.571487</td>\n",
              "      <td>0.565000</td>\n",
              "      <td>1.593680</td>\n",
              "      <td>10.216497</td>\n",
              "      <td>0.623675</td>\n",
              "      <td>2.429772</td>\n",
              "      <td>881.619930</td>\n",
              "    </tr>\n",
              "    <tr>\n",
              "      <th>389</th>\n",
              "      <td>1</td>\n",
              "      <td>14.142197</td>\n",
              "      <td>2.039219</td>\n",
              "      <td>2.236748</td>\n",
              "      <td>17.509961</td>\n",
              "      <td>103.760235</td>\n",
              "      <td>2.825525</td>\n",
              "      <td>3.912876</td>\n",
              "      <td>0.298394</td>\n",
              "      <td>1.832097</td>\n",
              "      <td>5.950905</td>\n",
              "      <td>1.047704</td>\n",
              "      <td>2.097227</td>\n",
              "      <td>1079.104998</td>\n",
              "    </tr>\n",
              "    <tr>\n",
              "      <th>1639</th>\n",
              "      <td>3</td>\n",
              "      <td>12.425975</td>\n",
              "      <td>2.294901</td>\n",
              "      <td>2.924798</td>\n",
              "      <td>20.858693</td>\n",
              "      <td>100.677210</td>\n",
              "      <td>1.814990</td>\n",
              "      <td>2.762398</td>\n",
              "      <td>0.306179</td>\n",
              "      <td>1.143092</td>\n",
              "      <td>9.920537</td>\n",
              "      <td>0.597982</td>\n",
              "      <td>2.141342</td>\n",
              "      <td>838.086048</td>\n",
              "    </tr>\n",
              "    <tr>\n",
              "      <th>2004</th>\n",
              "      <td>3</td>\n",
              "      <td>12.745620</td>\n",
              "      <td>4.072534</td>\n",
              "      <td>2.415821</td>\n",
              "      <td>21.417589</td>\n",
              "      <td>100.328676</td>\n",
              "      <td>1.861831</td>\n",
              "      <td>4.243816</td>\n",
              "      <td>0.317223</td>\n",
              "      <td>2.608496</td>\n",
              "      <td>8.036917</td>\n",
              "      <td>0.614371</td>\n",
              "      <td>1.561459</td>\n",
              "      <td>563.890107</td>\n",
              "    </tr>\n",
              "    <tr>\n",
              "      <th>403</th>\n",
              "      <td>3</td>\n",
              "      <td>14.120930</td>\n",
              "      <td>2.972000</td>\n",
              "      <td>1.974538</td>\n",
              "      <td>22.460124</td>\n",
              "      <td>99.297830</td>\n",
              "      <td>1.482434</td>\n",
              "      <td>0.499428</td>\n",
              "      <td>0.619503</td>\n",
              "      <td>1.283445</td>\n",
              "      <td>9.515219</td>\n",
              "      <td>0.629635</td>\n",
              "      <td>1.438051</td>\n",
              "      <td>509.489705</td>\n",
              "    </tr>\n",
              "  </tbody>\n",
              "</table>\n",
              "</div>\n",
              "      <button class=\"colab-df-convert\" onclick=\"convertToInteractive('df-812a4b41-8e8a-4621-a7f3-e6c41f187ed0')\"\n",
              "              title=\"Convert this dataframe to an interactive table.\"\n",
              "              style=\"display:none;\">\n",
              "        \n",
              "  <svg xmlns=\"http://www.w3.org/2000/svg\" height=\"24px\"viewBox=\"0 0 24 24\"\n",
              "       width=\"24px\">\n",
              "    <path d=\"M0 0h24v24H0V0z\" fill=\"none\"/>\n",
              "    <path d=\"M18.56 5.44l.94 2.06.94-2.06 2.06-.94-2.06-.94-.94-2.06-.94 2.06-2.06.94zm-11 1L8.5 8.5l.94-2.06 2.06-.94-2.06-.94L8.5 2.5l-.94 2.06-2.06.94zm10 10l.94 2.06.94-2.06 2.06-.94-2.06-.94-.94-2.06-.94 2.06-2.06.94z\"/><path d=\"M17.41 7.96l-1.37-1.37c-.4-.4-.92-.59-1.43-.59-.52 0-1.04.2-1.43.59L10.3 9.45l-7.72 7.72c-.78.78-.78 2.05 0 2.83L4 21.41c.39.39.9.59 1.41.59.51 0 1.02-.2 1.41-.59l7.78-7.78 2.81-2.81c.8-.78.8-2.07 0-2.86zM5.41 20L4 18.59l7.72-7.72 1.47 1.35L5.41 20z\"/>\n",
              "  </svg>\n",
              "      </button>\n",
              "      \n",
              "  <style>\n",
              "    .colab-df-container {\n",
              "      display:flex;\n",
              "      flex-wrap:wrap;\n",
              "      gap: 12px;\n",
              "    }\n",
              "\n",
              "    .colab-df-convert {\n",
              "      background-color: #E8F0FE;\n",
              "      border: none;\n",
              "      border-radius: 50%;\n",
              "      cursor: pointer;\n",
              "      display: none;\n",
              "      fill: #1967D2;\n",
              "      height: 32px;\n",
              "      padding: 0 0 0 0;\n",
              "      width: 32px;\n",
              "    }\n",
              "\n",
              "    .colab-df-convert:hover {\n",
              "      background-color: #E2EBFA;\n",
              "      box-shadow: 0px 1px 2px rgba(60, 64, 67, 0.3), 0px 1px 3px 1px rgba(60, 64, 67, 0.15);\n",
              "      fill: #174EA6;\n",
              "    }\n",
              "\n",
              "    [theme=dark] .colab-df-convert {\n",
              "      background-color: #3B4455;\n",
              "      fill: #D2E3FC;\n",
              "    }\n",
              "\n",
              "    [theme=dark] .colab-df-convert:hover {\n",
              "      background-color: #434B5C;\n",
              "      box-shadow: 0px 1px 3px 1px rgba(0, 0, 0, 0.15);\n",
              "      filter: drop-shadow(0px 1px 2px rgba(0, 0, 0, 0.3));\n",
              "      fill: #FFFFFF;\n",
              "    }\n",
              "  </style>\n",
              "\n",
              "      <script>\n",
              "        const buttonEl =\n",
              "          document.querySelector('#df-812a4b41-8e8a-4621-a7f3-e6c41f187ed0 button.colab-df-convert');\n",
              "        buttonEl.style.display =\n",
              "          google.colab.kernel.accessAllowed ? 'block' : 'none';\n",
              "\n",
              "        async function convertToInteractive(key) {\n",
              "          const element = document.querySelector('#df-812a4b41-8e8a-4621-a7f3-e6c41f187ed0');\n",
              "          const dataTable =\n",
              "            await google.colab.kernel.invokeFunction('convertToInteractive',\n",
              "                                                     [key], {});\n",
              "          if (!dataTable) return;\n",
              "\n",
              "          const docLinkHtml = 'Like what you see? Visit the ' +\n",
              "            '<a target=\"_blank\" href=https://colab.research.google.com/notebooks/data_table.ipynb>data table notebook</a>'\n",
              "            + ' to learn more about interactive tables.';\n",
              "          element.innerHTML = '';\n",
              "          dataTable['output_type'] = 'display_data';\n",
              "          await google.colab.output.renderOutput(dataTable, element);\n",
              "          const docLink = document.createElement('div');\n",
              "          docLink.innerHTML = docLinkHtml;\n",
              "          element.appendChild(docLink);\n",
              "        }\n",
              "      </script>\n",
              "    </div>\n",
              "  </div>\n",
              "  "
            ]
          },
          "metadata": {},
          "execution_count": 54
        }
      ]
    },
    {
      "cell_type": "code",
      "source": [
        "# checking for duplicate values\n",
        "df.duplicated().sum()"
      ],
      "metadata": {
        "colab": {
          "base_uri": "https://localhost:8080/"
        },
        "id": "P_RaaE5D67M6",
        "outputId": "c15c8ac2-75f8-4dd9-a78d-484b7616606e"
      },
      "execution_count": 55,
      "outputs": [
        {
          "output_type": "execute_result",
          "data": {
            "text/plain": [
              "0"
            ]
          },
          "metadata": {},
          "execution_count": 55
        }
      ]
    },
    {
      "cell_type": "code",
      "source": [
        "# checking for missing values in the data\n",
        "print(f\"\\nNull values in each feature/variable:\\n{df.isnull().sum()}\")"
      ],
      "metadata": {
        "colab": {
          "base_uri": "https://localhost:8080/"
        },
        "id": "37AX-ITF7B92",
        "outputId": "09c8662a-6ed6-4eb6-c189-e46259f38985"
      },
      "execution_count": 56,
      "outputs": [
        {
          "output_type": "stream",
          "name": "stdout",
          "text": [
            "\n",
            "Null values in each feature/variable:\n",
            "class                             0\n",
            "Alcohol                           0\n",
            "Malic_acid                        0\n",
            "Ash                               0\n",
            "Alcalinity_of_ash                 0\n",
            "Magnesium                         0\n",
            "Total_phenols                     0\n",
            "Flavanoids                        0\n",
            "Nonflavanoid_phenols              0\n",
            "Proanthocyanins                   0\n",
            "Color_intensity                   0\n",
            "Hue                               0\n",
            "OD280%2FOD315_of_diluted_wines    0\n",
            "Proline                           0\n",
            "dtype: int64\n"
          ]
        }
      ]
    },
    {
      "cell_type": "markdown",
      "source": [
        "### Data processing and splitting into training and test data"
      ],
      "metadata": {
        "id": "HuCMQT_i-hx7"
      }
    },
    {
      "cell_type": "code",
      "source": [
        "X = df.iloc[:, 1:14]\n",
        "y = df[['class']]\n",
        "X = preprocessing.scale(X)\n",
        "X_train, X_test, y_train, y_test = train_test_split(X, y, test_size=0.4, random_state=1)"
      ],
      "metadata": {
        "id": "x4r64DtE-sjU"
      },
      "execution_count": 57,
      "outputs": []
    },
    {
      "cell_type": "markdown",
      "source": [
        "### Apply different supervised learning models"
      ],
      "metadata": {
        "id": "-hmfBU6a5Wt0"
      }
    },
    {
      "cell_type": "markdown",
      "source": [
        "####Building a decision tree model"
      ],
      "metadata": {
        "id": "ywdWus5B_HHF"
      }
    },
    {
      "cell_type": "code",
      "source": [
        "# decision tree without tuning\n",
        "dt = DecisionTreeClassifier(random_state=1).fit(X_train,y_train)\n",
        "y_pred = dt.predict(X_test)\n",
        "print(\"Accuracy of decision tree without tuning:\",accuracy_score(y_test, y_pred))"
      ],
      "metadata": {
        "colab": {
          "base_uri": "https://localhost:8080/"
        },
        "id": "V_FvkD34_Nnc",
        "outputId": "0b910994-77f8-4b88-eec6-3472a2b62852"
      },
      "execution_count": 58,
      "outputs": [
        {
          "output_type": "stream",
          "name": "stdout",
          "text": [
            "Accuracy of decision tree without tuning: 0.8409090909090909\n"
          ]
        }
      ]
    },
    {
      "cell_type": "code",
      "source": [
        "# Tune hyperparameters of decision tree using GridSearchCV\n",
        "max_depth = np.arange(1,16)\n",
        "min_samples_leaf = np.arange(1,21)\n",
        "dt_parameters = {'max_depth' : max_depth,'min_samples_leaf':min_samples_leaf}\n",
        "dt= GridSearchCV(dt, param_grid=dt_parameters, cv=5,scoring='accuracy')\n",
        "start = time.time()\n",
        "dt.fit(X_train, y_train)\n",
        "end = time.time()\n",
        "y_pred = dt.predict(X_test)\n",
        "print(\"Best parameter for decision tree of the wine dataset:\")\n",
        "print(dt.best_params_)\n",
        "print('Finished training in %f seconds' % (end - start))\n",
        "print(\"Best accuracy of decision tree:\",accuracy_score(y_test, y_pred))\n",
        "print(classification_report(y_pred,y_test))\n"
      ],
      "metadata": {
        "colab": {
          "base_uri": "https://localhost:8080/"
        },
        "id": "Sobh1o84_h8s",
        "outputId": "435f12ca-6658-42c7-fc34-7894861c9d66"
      },
      "execution_count": 59,
      "outputs": [
        {
          "output_type": "stream",
          "name": "stdout",
          "text": [
            "Best parameter for decision tree of the wine dataset:\n",
            "{'max_depth': 9, 'min_samples_leaf': 5}\n",
            "Finished training in 18.229996 seconds\n",
            "Best accuracy of decision tree: 0.8681818181818182\n",
            "              precision    recall  f1-score   support\n",
            "\n",
            "           1       0.88      0.88      0.88       277\n",
            "           2       0.87      0.87      0.87       348\n",
            "           3       0.85      0.85      0.85       255\n",
            "\n",
            "    accuracy                           0.87       880\n",
            "   macro avg       0.87      0.87      0.87       880\n",
            "weighted avg       0.87      0.87      0.87       880\n",
            "\n"
          ]
        }
      ]
    },
    {
      "cell_type": "markdown",
      "source": [
        "####Building a kNN model"
      ],
      "metadata": {
        "id": "ObDDMZCrulkc"
      }
    },
    {
      "cell_type": "code",
      "source": [
        "# kNN networks without tuning\n",
        "knn= KNeighborsClassifier().fit(X_train,y_train.values.ravel())\n",
        "y_pred = knn.predict(X_test)\n",
        "print(\"Accuracy of kNN without tuning:\",accuracy_score(y_test, y_pred))"
      ],
      "metadata": {
        "colab": {
          "base_uri": "https://localhost:8080/"
        },
        "id": "EqpRwq4VvD6e",
        "outputId": "74d4b47e-66a2-4f68-a4d3-1d5c134e3a49"
      },
      "execution_count": 60,
      "outputs": [
        {
          "output_type": "stream",
          "name": "stdout",
          "text": [
            "Accuracy of kNN without tuning: 0.9068181818181819\n"
          ]
        }
      ]
    },
    {
      "cell_type": "code",
      "source": [
        "# Tune hyperparameters of kNN using GridSearchCV\n",
        "n_neighbors = np.arange(1, 36)\n",
        "p = [1, 2]\n",
        "knn_parameters = {'n_neighbors' : n_neighbors ,'p':p}\n",
        "knn= GridSearchCV(knn, param_grid=knn_parameters, cv=5,scoring='accuracy')\n",
        "start = time.time()\n",
        "knn.fit(X_train, y_train.values.ravel())\n",
        "end = time.time()\n",
        "y_pred = knn.predict(X_test)\n",
        "print(\"Best parameter for kNN of the wine dataset:\")\n",
        "print(knn.best_params_)\n",
        "print('Finished training in %f seconds' % (end - start))\n",
        "print(\"Best accuracy of kNN:\",accuracy_score(y_test, y_pred))\n",
        "print(classification_report(y_pred,y_test))"
      ],
      "metadata": {
        "colab": {
          "base_uri": "https://localhost:8080/"
        },
        "id": "_VLQls2fvYCP",
        "outputId": "4ceda1fc-fbba-4397-a9f5-32d8abfae6e7"
      },
      "execution_count": 61,
      "outputs": [
        {
          "output_type": "stream",
          "name": "stdout",
          "text": [
            "Best parameter for kNN of the wine dataset:\n",
            "{'n_neighbors': 30, 'p': 1}\n",
            "Finished training in 7.074204 seconds\n",
            "Best accuracy of kNN: 0.9227272727272727\n",
            "              precision    recall  f1-score   support\n",
            "\n",
            "           1       0.94      0.89      0.92       293\n",
            "           2       0.92      0.93      0.92       342\n",
            "           3       0.91      0.95      0.93       245\n",
            "\n",
            "    accuracy                           0.92       880\n",
            "   macro avg       0.92      0.92      0.92       880\n",
            "weighted avg       0.92      0.92      0.92       880\n",
            "\n"
          ]
        }
      ]
    },
    {
      "cell_type": "markdown",
      "source": [
        "#### Building a SVM model"
      ],
      "metadata": {
        "id": "lTNclY1UxFKP"
      }
    },
    {
      "cell_type": "code",
      "source": [
        "# kNN networks without tuning\n",
        "svm = svm.SVC(random_state = 1).fit(X_train, y_train.values.ravel())\n",
        "y_pred = svm.predict(X_test)\n",
        "print(\"Accuracy of wine dataset by SVM without tuning:\",accuracy_score(y_test, y_pred))"
      ],
      "metadata": {
        "colab": {
          "base_uri": "https://localhost:8080/"
        },
        "id": "qzlHINsixEaZ",
        "outputId": "ec5bbaef-8237-4093-af92-22349b38e15d"
      },
      "execution_count": 62,
      "outputs": [
        {
          "output_type": "stream",
          "name": "stdout",
          "text": [
            "Accuracy of wine dataset by SVM without tuning: 0.9159090909090909\n"
          ]
        }
      ]
    },
    {
      "cell_type": "code",
      "source": [
        "# Tune hyperparameters of SVM using GridSearchCV\n",
        "svm_parameters = {'C':np.linspace(0.01,1,20), 'gamma': np.linspace(0.01,0.1,10)}\n",
        "svm = GridSearchCV(svm, param_grid=svm_parameters, cv=5,scoring='accuracy')\n",
        "start = time.time()\n",
        "svm.fit(X_train, y_train.values.ravel())\n",
        "end = time.time()\n",
        "y_pred = svm.predict(X_test)\n",
        "print(\"Best parameter for SVM of the wine dataset:\")\n",
        "print(svm.best_params_)\n",
        "print('Finished training in %f seconds' % (end - start))\n",
        "print(\"Best accuracy of SVM:\",accuracy_score(y_test, y_pred))\n",
        "print(classification_report(y_pred,y_test))"
      ],
      "metadata": {
        "colab": {
          "base_uri": "https://localhost:8080/"
        },
        "id": "xiPwLTccyLBo",
        "outputId": "2eb7e73c-cb7d-451a-cc9a-ad775a18999e"
      },
      "execution_count": 63,
      "outputs": [
        {
          "output_type": "stream",
          "name": "stdout",
          "text": [
            "Best parameter for SVM of the wine dataset:\n",
            "{'C': 0.4268421052631579, 'gamma': 0.05000000000000001}\n",
            "Finished training in 45.356519 seconds\n",
            "Best accuracy of SVM: 0.9102272727272728\n",
            "              precision    recall  f1-score   support\n",
            "\n",
            "           1       0.91      0.91      0.91       278\n",
            "           2       0.91      0.92      0.91       345\n",
            "           3       0.91      0.90      0.91       257\n",
            "\n",
            "    accuracy                           0.91       880\n",
            "   macro avg       0.91      0.91      0.91       880\n",
            "weighted avg       0.91      0.91      0.91       880\n",
            "\n"
          ]
        }
      ]
    },
    {
      "cell_type": "markdown",
      "source": [
        "#### Building a Boosting model"
      ],
      "metadata": {
        "id": "P-vqz3yZz4TA"
      }
    },
    {
      "cell_type": "code",
      "source": [
        "# Boosting without tuning\n",
        "boost = AdaBoostClassifier(base_estimator=DecisionTreeClassifier(max_depth=1), random_state=1).fit(X_train, y_train.values.ravel())\n",
        "y_pred = boost.predict(X_test)\n",
        "print(\"Accuracy of wine dataset by Adaboost without tuning:\",accuracy_score(y_test, y_pred))"
      ],
      "metadata": {
        "colab": {
          "base_uri": "https://localhost:8080/"
        },
        "id": "OKJhUSMB0RhA",
        "outputId": "fafe24df-ed22-41e0-de40-a2b7b3afd4df"
      },
      "execution_count": 64,
      "outputs": [
        {
          "output_type": "stream",
          "name": "stdout",
          "text": [
            "Accuracy of wine dataset by Adaboost without tuning: 0.9011363636363636\n"
          ]
        }
      ]
    },
    {
      "cell_type": "code",
      "source": [
        "# Tune hyperparameters of boosting using GridSearchCV\n",
        "boost_parameters = {'n_estimators':[20,30,40,50,60,70,80,90,100,120], 'learning_rate': [0.01,0.04,0.07,0.1,0.2,0.3,0.4,0.5,0.6,0.8]}\n",
        "boost = GridSearchCV(boost, param_grid=boost_parameters, cv=5,scoring='accuracy', error_score='raise')\n",
        "start = time.time()\n",
        "boost.fit(X_train, y_train.values.ravel())\n",
        "end = time.time()\n",
        "y_pred = boost.predict(X_test)\n",
        "print(\"Best parameter for boosting of the wine dataset:\")\n",
        "print(boost.best_params_)\n",
        "print('Finished training in %f seconds' % (end - start))\n",
        "print(\"Best accuracy of boosting:\",accuracy_score(y_test, y_pred))\n",
        "print(classification_report(y_pred,y_test))"
      ],
      "metadata": {
        "colab": {
          "base_uri": "https://localhost:8080/"
        },
        "id": "EkIHhf4N0jVA",
        "outputId": "d2f268a3-b2dd-4f49-8858-039d1861a6d6"
      },
      "execution_count": 65,
      "outputs": [
        {
          "output_type": "stream",
          "name": "stdout",
          "text": [
            "Best parameter for boosting of the wine dataset:\n",
            "{'learning_rate': 0.2, 'n_estimators': 100}\n",
            "Finished training in 136.633251 seconds\n",
            "Best accuracy of boosting: 0.9125\n",
            "              precision    recall  f1-score   support\n",
            "\n",
            "           1       0.93      0.89      0.91       291\n",
            "           2       0.92      0.91      0.92       350\n",
            "           3       0.89      0.95      0.91       239\n",
            "\n",
            "    accuracy                           0.91       880\n",
            "   macro avg       0.91      0.91      0.91       880\n",
            "weighted avg       0.91      0.91      0.91       880\n",
            "\n"
          ]
        }
      ]
    },
    {
      "cell_type": "markdown",
      "source": [
        "#### Building a neural networks model"
      ],
      "metadata": {
        "id": "Qay4qJMx2DGQ"
      }
    },
    {
      "cell_type": "code",
      "source": [
        "# neural networks without tuning\n",
        "nn = MLPClassifier(random_state=1,max_iter=3000).fit(X_train, y_train.values.ravel())\n",
        "y_pred = nn.predict(X_test)\n",
        "print(\"Accuracy of neural networks without tuning:\",accuracy_score(y_test, y_pred))"
      ],
      "metadata": {
        "colab": {
          "base_uri": "https://localhost:8080/"
        },
        "id": "ugcP-Iji2CjR",
        "outputId": "a770cac4-3778-4d22-a008-23c6c6ad2aee"
      },
      "execution_count": 66,
      "outputs": [
        {
          "output_type": "stream",
          "name": "stdout",
          "text": [
            "Accuracy of neural networks without tuning: 0.8965909090909091\n"
          ]
        }
      ]
    },
    {
      "cell_type": "code",
      "source": [
        "# Tune hyperparameters of neural networks using GridSearchCV\n",
        "nn = MLPClassifier(hidden_layer_sizes=(150, 100, 50),random_state=1,max_iter=3000).fit(X_train, y_train.values.ravel())\n",
        "nn_parameters = {'alpha':np.linspace(5,15,12)}\n",
        "nn = GridSearchCV(nn, param_grid=nn_parameters, cv=5,scoring='accuracy')\n",
        "start = time.time()\n",
        "nn.fit(X_train, y_train.values.ravel())\n",
        "end = time.time()\n",
        "y_pred = nn.predict(X_test)\n",
        "print(\"Best parameter for neural networks of the wine dataset:\")\n",
        "print(nn.best_params_)\n",
        "print('Finished training in %f seconds' % (end - start))\n",
        "print(\"Best accuracy of neural networks:\",accuracy_score(y_test, y_pred))\n",
        "print(classification_report(y_pred,y_test))"
      ],
      "metadata": {
        "colab": {
          "base_uri": "https://localhost:8080/"
        },
        "id": "tIMUWDqS2dZ8",
        "outputId": "a9369bae-ef00-4250-d489-3c2fc2bb033a"
      },
      "execution_count": 67,
      "outputs": [
        {
          "output_type": "stream",
          "name": "stdout",
          "text": [
            "Best parameter for neural networks of the wine dataset:\n",
            "{'alpha': 14.09090909090909}\n",
            "Finished training in 291.367849 seconds\n",
            "Best accuracy of neural networks: 0.9090909090909091\n",
            "              precision    recall  f1-score   support\n",
            "\n",
            "           1       0.90      0.91      0.90       273\n",
            "           2       0.91      0.91      0.91       350\n",
            "           3       0.92      0.91      0.91       257\n",
            "\n",
            "    accuracy                           0.91       880\n",
            "   macro avg       0.91      0.91      0.91       880\n",
            "weighted avg       0.91      0.91      0.91       880\n",
            "\n"
          ]
        }
      ]
    }
  ]
}
